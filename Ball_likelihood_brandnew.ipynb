{
 "cells": [
  {
   "cell_type": "code",
   "execution_count": 1,
   "metadata": {
    "collapsed": false
   },
   "outputs": [
    {
     "name": "stdout",
     "output_type": "stream",
     "text": [
      "0.009341268469571331 0.00022867871970871776 7.317271858805256e-06\n"
     ]
    },
    {
     "name": "stderr",
     "output_type": "stream",
     "text": [
      "/Users/dauw/anaconda/lib/python2.7/site-packages/matplotlib/font_manager.py:1328: UserWarning: findfont: Font family [u'normal'] not found. Falling back to DejaVu Sans\n",
      "  (prop.get_family(), self.defaultFamily[fontext]))\n"
     ]
    },
    {
     "name": "stdout",
     "output_type": "stream",
     "text": [
      "done\n"
     ]
    }
   ],
   "source": [
    "#plot figure 4\n",
    "\n",
    "import matplotlib.pyplot as plt\n",
    "import numpy as np\n",
    "import sys\n",
    "import matplotlib\n",
    "\n",
    "font = {'family':'normal', \n",
    "        'weight':'normal',  \n",
    "        'size'  :9}  \n",
    "matplotlib.rc('font', **font)\n",
    "\n",
    "Bfld = np.array([3.78,3.97,5.8,2.,4.2])\n",
    "Berr = np.array([0.33,1.10,1.1,3.,1.0])\n",
    "\n",
    "size = 1000\n",
    "B0 = np.linspace(-20., 20., size)\n",
    "sigma0 = np.linspace(0.,20.,size+1)\n",
    "sigma0 = sigma0[1:]\n",
    "xx, yy = np.meshgrid(B0, sigma0)\n",
    "\n",
    "Lfun = np.zeros((size, size))\n",
    "\n",
    "for i in range(size):\n",
    "    a = 1./np.sqrt((sigma0[i]**2 + Berr[0]**2)*(sigma0[i]**2 + Berr[1]**2)*(sigma0[i]**2 + Berr[2]**2)*(sigma0[i]**2 + Berr[3]**2))\n",
    "    for j in range(size):\n",
    "        b = (Bfld[0]-B0[j])**2/(sigma0[i]**2+Berr[0]**2)+(Bfld[1]-B0[j])**2/(sigma0[i]**2+Berr[1]**2)+\\\n",
    "        (Bfld[2]-B0[j])**2/(sigma0[i]**2 + Berr[2]**2)+(Bfld[3]-B0[j])**2/(sigma0[i]**2+Berr[3]**2)\n",
    "        Lfun[i,j] = a*np.exp(-b/2)\n",
    "        \n",
    "Lfun2 = np.sum(Lfun,axis=0)\n",
    "Lfun3 = np.sum(Lfun,axis=1)\n",
    "\n",
    "Lfun_sort = np.sort(Lfun, axis=None) \n",
    "Lfun_sort2 = Lfun_sort[::-1]\n",
    "Lfun_cum = np.cumsum(Lfun_sort2)/np.sum(Lfun_sort2)\n",
    "level0 = np.array([0.68,0.955,0.997])\n",
    "idx0 = (np.abs(Lfun_cum-(level0[0]))).argmin()\n",
    "idx1 = (np.abs(Lfun_cum-(level0[1]))).argmin()\n",
    "idx2 = (np.abs(Lfun_cum-(level0[2]))).argmin()\n",
    "print Lfun_sort2[idx0],Lfun_sort2[idx1],Lfun_sort2[idx2]\n",
    "level1 = np.array([Lfun_sort2[idx2],Lfun_sort2[idx1],Lfun_sort2[idx0]])\n",
    "level2 = np.array([0.1,0.3,0.5,0.7,0.9])*np.amax(Lfun)\n",
    "\n",
    "fig = plt.figure(figsize=(8, 10.7))\n",
    "fig.subplots_adjust(0.1,0.1,0.9,0.9,0.4,0.4)\n",
    "\n",
    "ax1 = plt.subplot(331)\n",
    "plt.contour(xx, yy,Lfun,levels=level2, colors='k',linestyles ='-',linewidths=1.)#,extent=(-20, 20, 0, 20))\n",
    "plt.xlabel(r'B$_0$ ($\\mu$G)')\n",
    "plt.ylabel(r'$\\sigma_0$ ($\\mu$G)')\n",
    "plt.xlim(0,10)\n",
    "plt.ylim(0,5)\n",
    "#ax1.set_aspect('equal')\n",
    "ax1.set_aspect(1.0/ax1.get_data_ratio(), adjustable='box')\n",
    "ax1.text(0.9,0.9, 'a',horizontalalignment='center',verticalalignment='center',\n",
    "         transform=ax1.transAxes, fontsize=10,fontweight='bold')\n",
    "\n",
    "ax1 = plt.subplot(332)\n",
    "plt.plot(B0,Lfun2/np.sum(Lfun2),c='k',linewidth=1.)\n",
    "plt.xlabel(r'B$_0$ ($\\mu$G)')\n",
    "plt.ylabel(r'Probability Density')\n",
    "plt.xlim(-10,20)\n",
    "ax1.set_aspect(1.0/ax1.get_data_ratio(), adjustable='box')\n",
    "ax1.text(0.9,0.9, 'b',horizontalalignment='center',verticalalignment='center',\n",
    "         transform=ax1.transAxes, fontsize=10,fontweight='bold')\n",
    "\n",
    "ax1 = plt.subplot(333)\n",
    "plt.plot(sigma0,Lfun3/np.sum(Lfun3),c='k',linewidth=1.)\n",
    "plt.xlabel(r'$\\sigma_0$ ($\\mu$G)')\n",
    "plt.ylabel(r'Probability Density')\n",
    "plt.xlim(0,12)\n",
    "ax1.set_aspect(1.0/ax1.get_data_ratio(), adjustable='box')\n",
    "ax1.text(0.9,0.9, 'c',horizontalalignment='center',verticalalignment='center',\n",
    "         transform=ax1.transAxes, fontsize=10,fontweight='bold')\n",
    "\n",
    "plt.savefig(\"Ball_likelihood_brandnew.pdf\")\n",
    "\n",
    "print 'done'\n"
   ]
  },
  {
   "cell_type": "code",
   "execution_count": 2,
   "metadata": {
    "collapsed": false
   },
   "outputs": [
    {
     "name": "stdout",
     "output_type": "stream",
     "text": [
      "600\n",
      "Bmaxlike = 4.024024024024023\n",
      "Bsigma_+ = 1.5287822174320913\n",
      "Bsigma_- = 1.619978067196503\n",
      "Bsigma = 1.588504589758594\n",
      "Bmean = 4.109760124709388\n",
      "Bsigma2 = 1.5861891919702984\n",
      "638 560\n",
      "0.8338388610741929\n",
      "3.5435435435435423 4.064064064064063 4.664664664664663\n"
     ]
    }
   ],
   "source": [
    "print np.argmax(Lfun2)\n",
    "maxind = np.argmax(Lfun2)\n",
    "print 'Bmaxlike =', B0[maxind]\n",
    "diffB = (B0 - B0[maxind])\n",
    "pos_diffB = diffB[maxind:]\n",
    "neg_diffB = diffB[0:maxind+1]\n",
    "Bsigma_pos = np.sqrt(np.sum(pos_diffB**2*Lfun2[maxind:])/np.sum(Lfun2[maxind:]))\n",
    "Bsigma_neg = np.sqrt(np.sum(neg_diffB**2*Lfun2[0:maxind+1])/np.sum(Lfun2[0:maxind+1]))\n",
    "print 'Bsigma_+ =', Bsigma_pos\n",
    "print 'Bsigma_- =', Bsigma_neg\n",
    "print 'Bsigma =', np.sqrt(np.sum(diffB**2*Lfun2)/np.sum(Lfun2))\n",
    "\n",
    "mean = np.sum(B0*Lfun2)/np.sum(Lfun2)\n",
    "print 'Bmean =', mean\n",
    "print 'Bsigma2 =', np.sqrt(np.sum((B0-mean)**2*Lfun2)/np.sum(Lfun2))\n",
    "\n",
    "pos_ind = (np.abs(B0-(B0[maxind]+Bsigma_pos))).argmin()\n",
    "neg_ind = (np.abs(B0-(B0[maxind]-Bsigma_neg))).argmin()\n",
    "print pos_ind,neg_ind\n",
    "print np.sum(Lfun2[neg_ind:pos_ind])/np.sum(Lfun2)\n",
    "\n",
    "Lfun2_cum = np.cumsum(Lfun2)/np.sum(Lfun2)\n",
    "idx0 = (np.abs(Lfun2_cum-0.25)).argmin()\n",
    "idx1 = (np.abs(Lfun2_cum-0.5)).argmin()\n",
    "idx2 = (np.abs(Lfun2_cum-0.75)).argmin()\n",
    "print B0[idx0],B0[idx1],B0[idx2]"
   ]
  },
  {
   "cell_type": "code",
   "execution_count": 3,
   "metadata": {
    "collapsed": false
   },
   "outputs": [
    {
     "name": "stdout",
     "output_type": "stream",
     "text": [
      "23\n",
      "sigma0maxlike = 0.48\n",
      "sigma_+ = 3.011963117367069\n",
      "sigma_- = 0.2662167315289317\n",
      "sigma = 2.7062623559687995\n",
      "Sigmamean = 1.9462333015469246\n",
      "Sigmasigma2 = 2.2746463120161344\n",
      "174 10\n",
      "0.58 1.24 2.38\n"
     ]
    }
   ],
   "source": [
    "print np.argmax(Lfun3)\n",
    "maxind = np.argmax(Lfun3)\n",
    "print 'sigma0maxlike =', sigma0[maxind]\n",
    "diffsig = (sigma0 - sigma0[maxind])\n",
    "pos_diffsig = diffsig[maxind:]\n",
    "neg_diffsig = diffsig[0:maxind+1]\n",
    "sigma_pos = np.sqrt(np.sum(pos_diffsig**2*Lfun3[maxind:])/np.sum(Lfun3[maxind:]))\n",
    "sigma_neg = np.sqrt(np.sum(neg_diffsig**2*Lfun3[0:maxind+1])/np.sum(Lfun3[0:maxind+1]))\n",
    "print 'sigma_+ =', sigma_pos\n",
    "print 'sigma_- =', sigma_neg\n",
    "print 'sigma =', np.sqrt(np.sum(diffsig**2*Lfun3)/np.sum(Lfun3))\n",
    "\n",
    "mean = np.sum(sigma0*Lfun3)/np.sum(Lfun3)\n",
    "print 'Sigmamean =', mean\n",
    "print 'Sigmasigma2 =', np.sqrt(np.sum((sigma0-mean)**2*Lfun3)/np.sum(Lfun3))\n",
    "\n",
    "pos_ind = (np.abs(sigma0-(sigma0[maxind]+sigma_pos))).argmin()\n",
    "neg_ind = (np.abs(sigma0-(sigma0[maxind]-sigma_neg))).argmin()\n",
    "print pos_ind,neg_ind\n",
    "\n",
    "Lfun3_cum = np.cumsum(Lfun3)/np.sum(Lfun3)\n",
    "idx0 = (np.abs(Lfun3_cum-0.25)).argmin()\n",
    "idx1 = (np.abs(Lfun3_cum-0.5)).argmin()\n",
    "idx2 = (np.abs(Lfun3_cum-0.75)).argmin()\n",
    "print sigma0[idx0],sigma0[idx1],sigma0[idx2]\n"
   ]
  },
  {
   "cell_type": "code",
   "execution_count": null,
   "metadata": {
    "collapsed": true
   },
   "outputs": [],
   "source": []
  }
 ],
 "metadata": {
  "kernelspec": {
   "display_name": "Python 2",
   "language": "python",
   "name": "python2"
  },
  "language_info": {
   "codemirror_mode": {
    "name": "ipython",
    "version": 2
   },
   "file_extension": ".py",
   "mimetype": "text/x-python",
   "name": "python",
   "nbconvert_exporter": "python",
   "pygments_lexer": "ipython2",
   "version": "2.7.13"
  }
 },
 "nbformat": 4,
 "nbformat_minor": 0
}
